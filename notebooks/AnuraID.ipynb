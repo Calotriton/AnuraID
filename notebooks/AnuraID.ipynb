{
 "cells": [
  {
   "cell_type": "markdown",
   "id": "470bffef-8823-40e7-8b0a-e5c374e1adb6",
   "metadata": {},
   "source": [
    "## AnuraID"
   ]
  },
  {
   "cell_type": "markdown",
   "id": "8a4db4ef-ff25-42dd-9bab-2672fd463f1e",
   "metadata": {},
   "source": [
    "### A machine learning model to identify anuran species through their calls"
   ]
  },
  {
   "cell_type": "markdown",
   "id": "98d76f5e-5098-4a16-868c-ce1907a8b4ed",
   "metadata": {},
   "source": [
    "#### Restricted to Catalonian species (northern Spain)"
   ]
  },
  {
   "cell_type": "code",
   "execution_count": 1,
   "id": "0d5ffea3-fbda-4ab1-adf4-b8ccc33fce9e",
   "metadata": {},
   "outputs": [
    {
     "name": "stdout",
     "output_type": "stream",
     "text": [
      "C:\\Users\\User\\anaconda3\\envs\\anuraID\\python.exe\n"
     ]
    }
   ],
   "source": [
    "import sys\n",
    "print(sys.executable)"
   ]
  },
  {
   "cell_type": "markdown",
   "id": "854a2760-a0ff-4f74-a8dc-15d7542f4e86",
   "metadata": {},
   "source": [
    "Let's start by asssessing the data that can be used to build the model. \n",
    "\n",
    "The anuran species that this model will be able to identify are the following 9, corresponding to 6 different families:"
   ]
  },
  {
   "cell_type": "markdown",
   "id": "fd67a9fc-9c80-4ff1-972e-eab3ccdc03d0",
   "metadata": {},
   "source": [
    "Alytidae\n",
    "- _Alytes obstetricans_\n",
    "- _Discoglossus pictus_\n",
    "\n",
    "Bufonidae\n",
    "- _Bufo spinosus_\n",
    "- _Epidalea calamita_\n",
    "\n",
    "Hylidae\n",
    "- _Hyla meridionalis_\n",
    "\n",
    "Pelobatidae\n",
    "- _Pelobates cultripes_\n",
    "\n",
    "Pelodytidae\n",
    "- _Pelodytes punctatus_\n",
    "\n",
    "Ranidae\n",
    "- _Pelophylax spp._ (multiple species for this genus)\n",
    "- _Rana temporaria_"
   ]
  },
  {
   "cell_type": "markdown",
   "id": "35780237-470a-4b88-bbd5-68c61a2ea6e8",
   "metadata": {},
   "source": [
    "Let's start by importing the needed libraries for the creation of the model:"
   ]
  },
  {
   "cell_type": "markdown",
   "id": "7a4e5227-60d1-4ece-a16c-904ccdeb5c71",
   "metadata": {},
   "source": [
    "First, it's important that the libraries and programs needed are totally installed in your environment. The following libraries, with the indicated modules, will be needed:\n",
    "- *pydub*: FFmpg, AudioSegment\n"
   ]
  },
  {
   "cell_type": "code",
   "execution_count": 5,
   "id": "c2450e38-54a4-4688-a740-f198b867b398",
   "metadata": {},
   "outputs": [
    {
     "ename": "ModuleNotFoundError",
     "evalue": "No module named 'pydub'",
     "output_type": "error",
     "traceback": [
      "\u001b[1;31m---------------------------------------------------------------------------\u001b[0m",
      "\u001b[1;31mModuleNotFoundError\u001b[0m                       Traceback (most recent call last)",
      "Cell \u001b[1;32mIn[5], line 2\u001b[0m\n\u001b[0;32m      1\u001b[0m \u001b[38;5;28;01mimport\u001b[39;00m\u001b[38;5;250m \u001b[39m\u001b[38;5;21;01mos\u001b[39;00m\n\u001b[1;32m----> 2\u001b[0m \u001b[38;5;28;01mfrom\u001b[39;00m\u001b[38;5;250m \u001b[39m\u001b[38;5;21;01mpydub\u001b[39;00m\u001b[38;5;250m \u001b[39m\u001b[38;5;28;01mimport\u001b[39;00m AudioSegment\n",
      "\u001b[1;31mModuleNotFoundError\u001b[0m: No module named 'pydub'"
     ]
    }
   ],
   "source": [
    "import os\n",
    "from pydub import AudioSegment"
   ]
  },
  {
   "cell_type": "code",
   "execution_count": 3,
   "id": "9438856e-32cd-41b7-af2f-5b3df48a8071",
   "metadata": {},
   "outputs": [
    {
     "ename": "ModuleNotFoundError",
     "evalue": "No module named 'pydub'",
     "output_type": "error",
     "traceback": [
      "\u001b[1;31m---------------------------------------------------------------------------\u001b[0m",
      "\u001b[1;31mModuleNotFoundError\u001b[0m                       Traceback (most recent call last)",
      "Cell \u001b[1;32mIn[3], line 2\u001b[0m\n\u001b[0;32m      1\u001b[0m \u001b[38;5;28;01mimport\u001b[39;00m\u001b[38;5;250m \u001b[39m\u001b[38;5;21;01mos\u001b[39;00m\n\u001b[1;32m----> 2\u001b[0m \u001b[38;5;28;01mfrom\u001b[39;00m\u001b[38;5;250m \u001b[39m\u001b[38;5;21;01mpydub\u001b[39;00m\u001b[38;5;250m \u001b[39m\u001b[38;5;28;01mimport\u001b[39;00m AudioSegment\n\u001b[0;32m      4\u001b[0m \u001b[38;5;28;01mdef\u001b[39;00m\u001b[38;5;250m \u001b[39m\u001b[38;5;21mget_audio_length\u001b[39m(path):\n\u001b[0;32m      5\u001b[0m \u001b[38;5;250m    \u001b[39m\u001b[38;5;124;03m\"\"\"\u001b[39;00m\n\u001b[0;32m      6\u001b[0m \u001b[38;5;124;03m    Load an audio file and return its length in seconds.\u001b[39;00m\n\u001b[0;32m      7\u001b[0m \u001b[38;5;124;03m    \"\"\"\u001b[39;00m\n",
      "\u001b[1;31mModuleNotFoundError\u001b[0m: No module named 'pydub'"
     ]
    }
   ],
   "source": [
    "def get_audio_length(path):\n",
    "    \"\"\"\n",
    "    Load an audio file and return its length in seconds.\n",
    "    \"\"\"\n",
    "    audio = AudioSegment.from_file(path)\n",
    "    return len(audio) / 1000.0  # pydub gives length in milliseconds\n",
    "\n",
    "def summarize_durations(raw_data_dir):\n",
    "    \"\"\"\n",
    "    Walks through each species folder in raw_data_dir, sums durations,\n",
    "    and prints total length per species.\n",
    "    \"\"\"\n",
    "    totals = {}\n",
    "    for species in os.listdir(raw_data_dir):\n",
    "        species_dir = os.path.join(raw_data_dir, species)\n",
    "        if not os.path.isdir(species_dir):\n",
    "            continue\n",
    "\n",
    "        total_secs = 0.0\n",
    "        for root, _, files in os.walk(species_dir):\n",
    "            for fname in files:\n",
    "                # only process common audio extensions\n",
    "                if fname.lower().endswith(('.wav', '.mp3', '.flac', '.ogg', '.m4a')):\n",
    "                    fpath = os.path.join(root, fname)\n",
    "                    try:\n",
    "                        total_secs += get_audio_length(fpath)\n",
    "                    except Exception as e:\n",
    "                        print(f\"  ⚠️ Skipping {fpath}: {e}\")\n",
    "\n",
    "        totals[species] = total_secs\n",
    "\n",
    "    # Print a neat summary\n",
    "    print(\"Total audio duration per species:\\n\")\n",
    "    for species, secs in sorted(totals.items()):\n",
    "        hrs = int(secs // 3600)\n",
    "        mins = int((secs % 3600) // 60)\n",
    "        s = secs % 60\n",
    "        print(f\"- {species}: {hrs}h {mins}m {s:.1f}s ({secs:.1f} seconds)\")\n",
    "\n",
    "if __name__ == \"__main__\":\n",
    "    # Adjust this path if needed\n",
    "    raw_folder = r\"C:\\Users\\Alex\\Desktop\\AnuraID\\data\\raw\"\n",
    "    summarize_durations(raw_folder)\n"
   ]
  },
  {
   "cell_type": "code",
   "execution_count": null,
   "id": "4ad553dd-c377-4adc-af9e-0336752ea4e2",
   "metadata": {},
   "outputs": [],
   "source": []
  }
 ],
 "metadata": {
  "kernelspec": {
   "display_name": "Python (anuraID)",
   "language": "python",
   "name": "anuraid"
  },
  "language_info": {
   "codemirror_mode": {
    "name": "ipython",
    "version": 3
   },
   "file_extension": ".py",
   "mimetype": "text/x-python",
   "name": "python",
   "nbconvert_exporter": "python",
   "pygments_lexer": "ipython3",
   "version": "3.9.21"
  }
 },
 "nbformat": 4,
 "nbformat_minor": 5
}
